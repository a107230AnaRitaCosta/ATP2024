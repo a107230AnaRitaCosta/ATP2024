{
 "cells": [
  {
   "cell_type": "markdown",
   "metadata": {},
   "source": [
    "### TPC8 - teste de aferição"
   ]
  },
  {
   "cell_type": "markdown",
   "metadata": {},
   "source": [
    "### tpc-1. Especifique as seguintes listas em compreensão:"
   ]
  },
  {
   "cell_type": "markdown",
   "metadata": {},
   "source": [
    "#### a) Lista formada pelos elementos que não são comuns às duas listas:"
   ]
  },
  {
   "cell_type": "code",
   "execution_count": 1,
   "metadata": {},
   "outputs": [
    {
     "name": "stdout",
     "output_type": "stream",
     "text": [
      "[1, 2, 3, 6, 7, 8]\n"
     ]
    }
   ],
   "source": [
    "lista1 = [1, 2, 3, 4, 5]\n",
    "lista2 = [4, 5, 6, 7, 8]  \n",
    "ncomuns = []\n",
    "# Resultado esperado: [1,2,3,7,8]\n",
    "def naocomuns(lista1,lista2):\n",
    "    ncomuns=[n for n in lista1 if n not in lista2]+[n for n in lista2 if n not in lista1]\n",
    "    return ncomuns\n",
    "print(naocomuns(lista1,lista2))"
   ]
  },
  {
   "cell_type": "markdown",
   "metadata": {},
   "source": [
    "#### b) Lista formada pelas palavras do texto compostas por mais de 3 letras:"
   ]
  },
  {
   "cell_type": "code",
   "execution_count": 2,
   "metadata": {},
   "outputs": [
    {
     "name": "stdout",
     "output_type": "stream",
     "text": [
      "['Vivia', 'poucos', 'anos', 'algures', 'concelho', 'Ribatejo', 'pequeno', 'lavrador', 'negociante', 'gado', 'chamado', 'Manuel', 'Peres', 'Vigário']\n"
     ]
    }
   ],
   "source": [
    "texto = \"\"\"Vivia há já não poucos anos algures num concelho do Ribatejo \n",
    "    um pequeno lavrador e negociante de gado chamado Manuel Peres Vigário\"\"\"\n",
    "\n",
    "def tresletras(texto):\n",
    "    textof=texto.split()\n",
    "    lista = [pal for pal in textof if len(pal)>3]\n",
    "    return lista\n",
    "\n",
    "print(tresletras(texto))\n",
    "# Resultado esperado: ['Vivia', 'poucos', 'anos', 'algures', 'concelho', ...]"
   ]
  },
  {
   "cell_type": "markdown",
   "metadata": {},
   "source": [
    "#### c) Lista formada por pares do tipo (índice, valor) com os valores da lista dada:"
   ]
  },
  {
   "cell_type": "code",
   "execution_count": 3,
   "metadata": {},
   "outputs": [
    {
     "name": "stdout",
     "output_type": "stream",
     "text": [
      "[(1, 'anaconda'), (2, 'burro'), (3, 'cavalo'), (4, 'macaco')]\n"
     ]
    }
   ],
   "source": [
    "lista = ['anaconda', 'burro', 'cavalo', 'macaco']\n",
    "\n",
    "def pares(lista):\n",
    "    listaRes = [(lista.index(elem)+1,elem) for elem in lista]\n",
    "    return listaRes\n",
    "print(pares(lista))\n",
    "# Resultado esperado: [(1,'anaconda'), (2,'burro'), (3,'cavalo'), (4,'macaco')]"
   ]
  },
  {
   "cell_type": "markdown",
   "metadata": {},
   "source": [
    "### tpc-2. À semelhança do que foi feito nas aulas, realize as seguintes tarefas:"
   ]
  },
  {
   "cell_type": "markdown",
   "metadata": {},
   "source": [
    "#### a) Especifique uma função que dada uma string e uma substring não vazia, calcula  o número de vezes em que a substring aparece na string, sem que haja sobreposição de substrings:"
   ]
  },
  {
   "cell_type": "code",
   "execution_count": 4,
   "metadata": {},
   "outputs": [
    {
     "name": "stdout",
     "output_type": "stream",
     "text": [
      "2\n",
      "1\n",
      "0\n",
      "1\n"
     ]
    }
   ],
   "source": [
    "def strCount(s, subs):\n",
    "    res=0\n",
    "    seccao = len(s) - len(subs) + 1\n",
    "    for i in range(seccao):\n",
    "        if s[i:i+len(subs)]==subs:\n",
    "            res=res+1\n",
    "    return res\n",
    "\n",
    "p1=strCount(\"catcowcat\", \"cat\") # --> 2\n",
    "p2=strCount(\"catcowcat\", \"cow\") # --> 1\n",
    "p3=strCount(\"catcowcat\", \"dog\") # --> 0\n",
    "p4=strCount(\"doggodoooodg\",\"dog\")\n",
    "\n",
    "print(p1)\n",
    "print(p2)\n",
    "print(p3)\n",
    "print(p4)"
   ]
  },
  {
   "cell_type": "markdown",
   "metadata": {},
   "source": [
    "#### b) Especifique uma função que recebe uma lista de números inteiros positivos e devolve o menor produto que for possível calcular multiplicando os 3 menores inteiros da lista:"
   ]
  },
  {
   "cell_type": "code",
   "execution_count": 5,
   "metadata": {},
   "outputs": [
    {
     "name": "stdout",
     "output_type": "stream",
     "text": [
      "168\n",
      "24\n"
     ]
    }
   ],
   "source": [
    "def produtoM3(lista):\n",
    "    lista_ord=sorted(lista)\n",
    "    produto=lista_ord[0]*lista_ord[1]*lista_ord[2]\n",
    "    return  produto\n",
    "\n",
    "print(produtoM3([12,3,7,10,12,8,9]))\n",
    "print(produtoM3([4,6,2,9,3]))\n",
    "# Resultado esperado: 168 = 3 * 7 * 8"
   ]
  },
  {
   "cell_type": "markdown",
   "metadata": {},
   "source": [
    "#### c) Especifique uma função que dado um número inteiro positivo, repetidamente adiciona os seus dígitos até obter apenas um dígito que é retornado como resultado:"
   ]
  },
  {
   "cell_type": "code",
   "execution_count": 6,
   "metadata": {},
   "outputs": [
    {
     "name": "stdout",
     "output_type": "stream",
     "text": [
      "2\n",
      "3\n",
      "1\n",
      "5\n"
     ]
    }
   ],
   "source": [
    "# Input: 38\n",
    "# Output: 2\n",
    "# Explicação: 3 + 8 = 11, 1 + 1 = 2.\n",
    "\n",
    "# Input: 777\n",
    "# Output: 3\n",
    "# Explicação: 7 + 7 + 7 = 21, 2 + 1 = 3.\n",
    "\n",
    "def reduxInt(n):\n",
    "    while n>=10:\n",
    "        res=0\n",
    "        while n>0:\n",
    "            res=res+ n%10\n",
    "            n=n//10\n",
    "        n=res\n",
    "    return n\n",
    "    \n",
    "print(reduxInt(38))\n",
    "print(reduxInt(777))\n",
    "print(reduxInt(10))\n",
    "print(reduxInt(5))"
   ]
  },
  {
   "cell_type": "markdown",
   "metadata": {},
   "source": [
    "#### d) Especifique uma função que recebe duas strings, `string1` e `string2`, e devolve o índice da primeira ocorrência de `string2` em `string1`, caso não ocorra nenhuma vez a função deverá retornar `-1`:"
   ]
  },
  {
   "cell_type": "code",
   "execution_count": 7,
   "metadata": {},
   "outputs": [
    {
     "name": "stdout",
     "output_type": "stream",
     "text": [
      "13\n",
      "-1\n",
      "5\n"
     ]
    }
   ],
   "source": [
    "# Invocação: indexOf(\"Hoje está um belo dia de sol!\", \"belo\")\n",
    "# Resultado: 13\n",
    "\n",
    "# Invocação: indexOf(\"Hoje está um belo dia de sol!\", \"chuva\")\n",
    "# Resultado: -1\n",
    "\n",
    "def myIndexOf(s1, s2):\n",
    "    if s2 in s1:\n",
    "        return s1.index(s2)\n",
    "    else: \n",
    "        return -1\n",
    "    \n",
    "print(myIndexOf(\"Hoje está um belo dia de sol!\", \"belo\"))\n",
    "print(myIndexOf(\"Hoje está um belo dia de sol!\", \"chuva\"))\n",
    "print(myIndexOf(\"Hoje está um belo dia de sol!\", \"está\"))"
   ]
  },
  {
   "cell_type": "markdown",
   "metadata": {},
   "source": [
    "### tpc-3. A Rede Social"
   ]
  },
  {
   "cell_type": "code",
   "execution_count": 8,
   "metadata": {},
   "outputs": [],
   "source": [
    "rede=[{\n",
    "    'id': 'p1', \n",
    "    'conteudo': 'A tarefa de avaliação é talvez a mais ingrata das tarefas que um professor tem de realizar.', \n",
    "    'autor': 'jcr', \n",
    "    'dataCriacao': '2023-07-20', \n",
    "    'comentarios': [{'comentario': 'Completamente de acordo...','autor': 'prh'},{'comentario': 'Mas há quem goste...','autor': 'jj'}]}, \n",
    "    {'id': 'p2',\n",
    "     'conteudo': 'A UC de programação requer muita prática.',\n",
    "     'autor': 'arc',\n",
    "     'dataCriacao':'2024-11-02',\n",
    "     'comentarios':[{'comentario':'Concordo totalmente', 'autor':'jss'},{'comentario':'Eu só vou estudar antes do teste', 'autor':'grl'},\n",
    "                    {'comentario':'Quem só estudar antes do teste, não vai conseguir ter boa nota.','autor':'tc'}]},\n",
    "    {'id': 'p3',\n",
    "     'conteudo': 'Não vou passar o Natal em Portugal.',\n",
    "     'autor': 'pls',\n",
    "     'dataCriacao':'2022-12-15',\n",
    "     'comentarios':[{'comentario':'Para onde vais?', 'autor':'arc'},{'comentario':'Finlândia', 'autor':'pls'},\n",
    "                    {'comentario':'Muito bem. Boa viagem!','autor':'arc'}]},\n",
    "     {'id': 'p4',\n",
    "     'conteudo': 'Falta pouco para acabar o primeiro semestre.',\n",
    "     'autor': 'arc',\n",
    "     'dataCriacao':'2024-11-02',\n",
    "     'comentarios':[{'comentario':'Ainda bem', 'autor':'tc'}]\n",
    "        }]"
   ]
  },
  {
   "cell_type": "markdown",
   "metadata": {},
   "source": [
    "#### a) `quantosPost`, que indica quantos posts estão registados:"
   ]
  },
  {
   "cell_type": "code",
   "execution_count": null,
   "metadata": {},
   "outputs": [],
   "source": [
    "def quantosPost(redeSocial):\n",
    "    res=0\n",
    "    for post in redeSocial:\n",
    "         res=res+1\n",
    "    return res\n",
    "\n",
    "print(quantosPost(rede))"
   ]
  },
  {
   "cell_type": "markdown",
   "metadata": {},
   "source": [
    "#### b)  `postsAutor`, que devolve a lista de posts de um determinado autor:"
   ]
  },
  {
   "cell_type": "code",
   "execution_count": null,
   "metadata": {},
   "outputs": [],
   "source": [
    "def postsAutor(redeSocial, autor):\n",
    "    lista_autor=[]\n",
    "    for post in redeSocial:\n",
    "        if post['autor']==autor_:\n",
    "            lista_autor.append(post)\n",
    "    return lista_autor\n",
    "\n",
    "autor_=input(\"Introduza o nome do autor:\")\n",
    "print(f\"Posts de '{autor_}': {postsAutor(rede,autor_)}\")"
   ]
  },
  {
   "cell_type": "markdown",
   "metadata": {},
   "source": [
    "#### c) `autores`, que devolve a lista de autores de posts ordenada alfabeticamente:"
   ]
  },
  {
   "cell_type": "code",
   "execution_count": null,
   "metadata": {},
   "outputs": [],
   "source": [
    "def autores(redeSocial):\n",
    "    lista_autores=[]\n",
    "    for post in redeSocial:\n",
    "        if post['autor'] not in lista_autores:\n",
    "            lista_autores.append(post['autor'])\n",
    "            lista_autores.sort()\n",
    "    return  lista_autores\n",
    "\n",
    "print(autores(rede))"
   ]
  },
  {
   "cell_type": "markdown",
   "metadata": {},
   "source": [
    "#### d) `insPost`, que acrescenta um novo post à rede social a partir dos parâmetros recebidos e devolve a nova rede social. \n",
    "    \n",
    "O campo `id` deverá ser calculado a partir dos já existentes, por exemplo, se a rede tiver posts com id `p1`, `p2` e `p3`, o novo `id` deverá ser `p4`."
   ]
  },
  {
   "cell_type": "code",
   "execution_count": null,
   "metadata": {},
   "outputs": [],
   "source": [
    "def insPost(redeSocial, conteudo, autor, dataCriacao, comentarios):\n",
    "    posts=0\n",
    "    for post in redeSocial:\n",
    "        posts=posts+1\n",
    "    id=f\"p{posts+1}\"\n",
    "\n",
    "    rede.append({'id': id, 'conteudo':conteudo_novo, 'autor':autor_novo, 'dataCriacao':data_novo, 'comentarios': [{'comentario':comentario_novo, 'autor': autor_com}]})\n",
    "    return rede\n",
    "\n",
    "conteudo_novo=input(\"Conteúdo:\")\n",
    "autor_novo=input(\"Nome do autor:\")\n",
    "data_novo=input(\"Introduza a data no formato ano-mês-dia:\")\n",
    "comentario_novo=input(\"Introduza um comentário:\")\n",
    "autor_com=input(\"Introduza o autor do comentário:\")\n",
    "\n",
    "print(insPost(rede,conteudo_novo,autor_novo,data_novo,comentario_novo))"
   ]
  },
  {
   "cell_type": "markdown",
   "metadata": {},
   "source": [
    "#### e)  `remPost`, que remove um post da rede, correspondente ao `id` recebido."
   ]
  },
  {
   "cell_type": "code",
   "execution_count": null,
   "metadata": {},
   "outputs": [],
   "source": [
    "def remPost(redeSocial, id):\n",
    "    for post in redeSocial:\n",
    "        if post['id']==id_:\n",
    "            rede.remove(post)\n",
    "    return rede\n",
    "\n",
    "id_=input(\"Introduza o id do post que deseja remover:\")\n",
    "print(remPost(rede,id_))\n",
    "print(f\"\\nO post com id {id_} foi removido da rede social.\")"
   ]
  },
  {
   "cell_type": "markdown",
   "metadata": {},
   "source": [
    "#### f) `postsPorAutor`, que devolve uma distribuição de posts por autor (à semelhança do que foi feito nas aulas)."
   ]
  },
  {
   "cell_type": "code",
   "execution_count": null,
   "metadata": {},
   "outputs": [],
   "source": [
    "def postsPorAutor(redeSocial):\n",
    "    distribuicao={}\n",
    "   \n",
    "    for post in redeSocial:\n",
    "        if post['autor'] in distribuicao:\n",
    "            distribuicao[post['autor']]=distribuicao[post['autor']]+1\n",
    "        else:\n",
    "            distribuicao[post['autor']]=1\n",
    "    return distribuicao\n",
    "\n",
    "postsPorAutor(rede)"
   ]
  },
  {
   "cell_type": "markdown",
   "metadata": {},
   "source": [
    "#### g) `comentadoPor`, que recebe um autor e devolve a lista de posts comentados por esse autor."
   ]
  },
  {
   "cell_type": "code",
   "execution_count": null,
   "metadata": {},
   "outputs": [],
   "source": [
    "def comentadoPor(redeSocial, autor):\n",
    "    lista_com=[]\n",
    "    for post in redeSocial:\n",
    "        for comentario in post['comentarios']:\n",
    "            if comentario['autor']==autor_c:\n",
    "                lista_com.append(post)\n",
    "    return lista_com\n",
    "\n",
    "autor_c=input(\"Introduza o autor para o qual deseja consultar os comentários:\")\n",
    "print(f\"Posts comentados por {autor_c}: {comentadoPor(rede,autor_c)}\")"
   ]
  }
 ],
 "metadata": {
  "kernelspec": {
   "display_name": "Python 3",
   "language": "python",
   "name": "python3"
  },
  "language_info": {
   "codemirror_mode": {
    "name": "ipython",
    "version": 3
   },
   "file_extension": ".py",
   "mimetype": "text/x-python",
   "name": "python",
   "nbconvert_exporter": "python",
   "pygments_lexer": "ipython3",
   "version": "3.12.6"
  }
 },
 "nbformat": 4,
 "nbformat_minor": 2
}
