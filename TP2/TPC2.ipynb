{
 "cells": [
  {
   "cell_type": "markdown",
   "metadata": {},
   "source": [
    "### Jogo: Adivinha o número"
   ]
  },
  {
   "cell_type": "code",
   "execution_count": 10,
   "metadata": {},
   "outputs": [
    {
     "name": "stdout",
     "output_type": "stream",
     "text": [
      "Bem-vindo ao jogo Adivinha o Número!\n",
      "Terá que escolher a modalidade que pretende jogar:\n",
      "1-o computador pensa num número entre 0 e 100 e o utilizador tenta adivinhar.\n",
      "2-o utilizador pensa num número entre 0 e 100 e o computador tenta adivinhar.\n",
      "Resposta inválida. Respostas corretas: acertou/maior/menor\n",
      "Acertei! O número que pensou era 3. Usei 6 tentativa(s).\n"
     ]
    }
   ],
   "source": [
    "import random\n",
    "\n",
    "print(\"Bem-vindo ao jogo Adivinha o número!\")\n",
    "print(\"Terá que escolher a modalidade que pretende jogar:\")\n",
    "print(\"1-o computador pensa num número entre 0 e 100 e o utilizador tenta adivinhar.\")\n",
    "print(\"2-o utilizador pensa num número entre 0 e 100 e o computador tenta adivinhar.\")\n",
    "\n",
    "mod=int(input(\"Qual a modalidade que quer jogar?\"))\n",
    "if mod==1:\n",
    "    n=random.randint(0,100)\n",
    "    palpite=int(input(\"Tente adivinhar o número que pensei.\"))\n",
    "    tentativas=1\n",
    "    while n!=palpite:\n",
    "        if n<palpite:\n",
    "            print(\"O número que pensei é menor.\")\n",
    "            palpite=int(input(\"Tente adivinhar o número que pensei.\"))\n",
    "            tentativas=tentativas+1\n",
    "        else:\n",
    "            print(\"O número que pensei é maior.\")\n",
    "            palpite=int(input(\"Tente adivinhar o número que pensei.\"))\n",
    "            tentativas=tentativas+1\n",
    "    print(f\"Acertou! O número pensado era {n}. Usou {tentativas} tentativa(s).\")\n",
    "\n",
    "\n",
    "elif mod==2:         \n",
    "    tentativas=0\n",
    "    menor=0\n",
    "    maior=100\n",
    "    while menor<maior:\n",
    "        numero=(menor+maior)//2\n",
    "        tentativas=tentativas+1\n",
    "        x=input(f\"O número que pensou é {numero}? (R:acertou/maior/menor)\")\n",
    "        if x==\"acertou\":\n",
    "            menor=maior\n",
    "            print(f\"Acertei! O número que pensou era {numero}. Usei {tentativas} tentativa(s).\")\n",
    "        elif x==\"maior\":\n",
    "            menor=numero\n",
    "        elif x==\"menor\":\n",
    "            maior=numero\n",
    "        else:\n",
    "            print(\"Resposta inválida. Respostas corretas: acertou/maior/menor\")\n",
    "else:\n",
    "    print(\"Resposta inválida. Introduza modalidade 1 ou 2.\")\n"
   ]
  }
 ],
 "metadata": {
  "kernelspec": {
   "display_name": "Python 3",
   "language": "python",
   "name": "python3"
  },
  "language_info": {
   "codemirror_mode": {
    "name": "ipython",
    "version": 3
   },
   "file_extension": ".py",
   "mimetype": "text/x-python",
   "name": "python",
   "nbconvert_exporter": "python",
   "pygments_lexer": "ipython3",
   "version": "3.12.6"
  }
 },
 "nbformat": 4,
 "nbformat_minor": 2
}
